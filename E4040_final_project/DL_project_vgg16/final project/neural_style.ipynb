{
 "cells": [
  {
   "cell_type": "code",
   "execution_count": 1,
   "metadata": {
    "collapsed": false
   },
   "outputs": [
    {
     "name": "stdout",
     "output_type": "stream",
     "text": [
      "Populating the interactive namespace from numpy and matplotlib\n"
     ]
    },
    {
     "name": "stderr",
     "output_type": "stream",
     "text": [
      "Using Theano backend.\n"
     ]
    }
   ],
   "source": [
    "% pylab inline\n",
    "import os\n",
    "import time\n",
    "\n",
    "from scipy.optimize import fmin_l_bfgs_b\n",
    "from scipy.misc import imsave, imread, imresize\n",
    "\n",
    "from keras import backend as K\n",
    "import theano\n",
    "import theano.tensor as T\n",
    "from keras.applications import vgg16\n",
    "from keras.preprocessing.image import load_img, img_to_array\n",
    "from project_ulti import *"
   ]
  },
  {
   "cell_type": "code",
   "execution_count": 2,
   "metadata": {
    "collapsed": true
   },
   "outputs": [],
   "source": [
    "# set image paths\n",
    "root_dir = os.path.abspath('.')\n",
    "\n",
    "base_image_path = os.path.join(root_dir, '1-content.jpg')\n",
    "ref_image_path = os.path.join(root_dir, '4-style.jpg')"
   ]
  },
  {
   "cell_type": "code",
   "execution_count": 3,
   "metadata": {
    "collapsed": true
   },
   "outputs": [],
   "source": [
    "## set variables\n",
    "\n",
    "# set image size\n",
    "img_nrows = 400\n",
    "img_ncols = 400\n",
    "\n",
    "# set image weights\n",
    "style_weight = 1.\n",
    "content_weight = 0.0005"
   ]
  },
  {
   "cell_type": "code",
   "execution_count": 4,
   "metadata": {
    "collapsed": false
   },
   "outputs": [],
   "source": [
    "base_img = preprocess_image(base_image_path)\n",
    "ref_img = preprocess_image(ref_image_path)\n",
    "base_image=T.tensor4('base_image')\n",
    "base_image=base_img\n",
    "ref_image=T.tensor4('reference_image')\n",
    "ref_image=ref_img\n",
    "final_image= T.tensor4('final_image')\n"
   ]
  },
  {
   "cell_type": "code",
   "execution_count": 5,
   "metadata": {
    "collapsed": true
   },
   "outputs": [],
   "source": [
    "\n",
    "input_tensor = T.concatenate([base_image, ref_image, final_image], axis=0)"
   ]
  },
  {
   "cell_type": "code",
   "execution_count": 6,
   "metadata": {
    "collapsed": false
   },
   "outputs": [
    {
     "name": "stdout",
     "output_type": "stream",
     "text": [
      "GG-16 from imagenet\n"
     ]
    }
   ],
   "source": [
    "model = vgg16.VGG16(input_tensor=input_tensor,\n",
    "                    weights='imagenet', include_top=False)\n",
    "print('GG-16 from imagenet')"
   ]
  },
  {
   "cell_type": "code",
   "execution_count": 7,
   "metadata": {
    "collapsed": true
   },
   "outputs": [],
   "source": [
    "outputs_dict = dict([(layer.name, layer.output) for layer in model.layers])"
   ]
  },
  {
   "cell_type": "code",
   "execution_count": 8,
   "metadata": {
    "collapsed": true
   },
   "outputs": [],
   "source": [
    "def content_loss(base, final):\n",
    "    return T.sum(T.square(final - base))\n",
    "\n",
    "\n",
    "    \n",
    "def style_loss(style, final):\n",
    "    S = gram_matrix(style)\n",
    "    F = gram_matrix(final)\n",
    "    channels = 3\n",
    "    size = img_nrows * img_ncols\n",
    "    return T.sum(T.square(S - F)) / (4. * (channels ** 2) * (size ** 2))\n",
    "\n"
   ]
  },
  {
   "cell_type": "code",
   "execution_count": 9,
   "metadata": {
    "collapsed": true
   },
   "outputs": [],
   "source": [
    "\n",
    "loss =theano.shared(numpy.cast[theano.config.floatX](0.), name='loss')\n",
    "layer_features = outputs_dict['block4_conv2']\n",
    "base_image_features = layer_features[0, :, :, :]\n",
    "final_features = layer_features[2, :, :, :]\n",
    "loss += content_weight * content_loss(base_image_features, final_features)"
   ]
  },
  {
   "cell_type": "code",
   "execution_count": 10,
   "metadata": {
    "collapsed": true
   },
   "outputs": [],
   "source": [
    "\n",
    "feature_layers = ['block1_conv1', 'block2_conv1',\n",
    "                  'block3_conv1', 'block4_conv1',\n",
    "                  'block5_conv1']\n",
    "for layer_name in feature_layers:\n",
    "    layer_features = outputs_dict[layer_name]\n",
    "    style_features = layer_features[1, :, :, :]\n",
    "    final_features = layer_features[2, :, :, :]\n",
    "    sl = style_loss(style_features, final_features)\n",
    "    loss += (style_weight / len(feature_layers)) * sl\n"
   ]
  },
  {
   "cell_type": "code",
   "execution_count": 11,
   "metadata": {
    "collapsed": true
   },
   "outputs": [],
   "source": [
    "style=[]\n",
    "LF1 = outputs_dict['block1_conv1']\n",
    "LF2 = outputs_dict['block2_conv1']\n",
    "LF3 = outputs_dict['block3_conv1']\n",
    "LF4 = outputs_dict['block4_conv1']\n",
    "style.append(LF1[0])\n",
    "style.append(LF2[0])\n",
    "style.append(LF3[0])\n",
    "style.append(LF4[0])\n",
    "style.append(LF1[1])\n",
    "style.append(LF2[1])\n",
    "style.append(LF3[1])\n",
    "style.append(LF4[1])\n",
    "F_outputs = theano.function([final_image], style,allow_input_downcast=True,on_unused_input='ignore')\n",
    "\n",
    "def eval_feature(x):\n",
    "    x = x.reshape((1, 3, img_nrows, img_ncols))\n",
    "    outs = F_outputs(x)    #x should be final_image\n",
    "    style = outs     #outs[0] is loss value     \n",
    "    return style   #return [loss_value,numeric gradie"
   ]
  },
  {
   "cell_type": "code",
   "execution_count": 12,
   "metadata": {
    "collapsed": true
   },
   "outputs": [],
   "source": [
    "# set gradients\n",
    "grads = T.grad(loss, final_image)"
   ]
  },
  {
   "cell_type": "code",
   "execution_count": 13,
   "metadata": {
    "collapsed": true
   },
   "outputs": [],
   "source": [
    "outputs = [loss]\n",
    "outputs.append(grads)\n",
    "f_outputs = theano.function([final_image], outputs,allow_input_downcast=True)"
   ]
  },
  {
   "cell_type": "code",
   "execution_count": 14,
   "metadata": {
    "collapsed": true
   },
   "outputs": [],
   "source": [
    "def eval_loss_and_grads(x):\n",
    "    x = x.reshape((1, 3, img_nrows, img_ncols))\n",
    "    outs = f_outputs(x)\n",
    "    loss_value = outs[0]\n",
    "    if len(outs[1:]) == 1:\n",
    "        grad_values = outs[1].flatten().astype('float64')\n",
    "    else:\n",
    "        grad_values = np.array(outs[1:]).flatten().astype('float64')\n",
    "    return loss_value, grad_values"
   ]
  },
  {
   "cell_type": "code",
   "execution_count": 15,
   "metadata": {
    "collapsed": true
   },
   "outputs": [],
   "source": [
    "'''\n",
    "This part conclude eval_loss_and_grads function and Evaluator class. It is a very common helper tool\n",
    "to show the loss and gradient value. Many papers has mention this code. And we can also find the code\n",
    "from famous Github: https://github.com/alexjc/neural-doodle. From alexjc the author of the orignal paper \n",
    "'Semantic Style Transfer and Turning Two-Bit Doodles into Fine Artwork. Many thanks to Alex J. Champandard\n",
    "'''\n",
    "class Evaluator(object):\n",
    "    def __init__(self):\n",
    "        self.loss_value = None\n",
    "        self.grads_values = None\n",
    "\n",
    "    def loss(self, x):\n",
    "        assert self.loss_value is None\n",
    "        loss_value, grad_values = eval_loss_and_grads(x)\n",
    "        style = eval_feature(x)\n",
    "        self.loss_value = loss_value\n",
    "        self.grad_values = grad_values\n",
    "        \n",
    "        self.style=style\n",
    "        return self.loss_value\n",
    "\n",
    "    def grads(self, x):\n",
    "        assert self.loss_value is not None\n",
    "        grad_values = np.copy(self.grad_values)\n",
    "        self.loss_value = None\n",
    "        self.grad_values = None\n",
    "        return grad_values\n",
    "    \n",
    "    def FFF(self,x):\n",
    "        grad_values = np.copy(self.grad_values)\n",
    "        self.loss_value = None\n",
    "        self.grad_values = None\n",
    "        return self.style \n",
    "\n",
    "evaluator = Evaluator()"
   ]
  },
  {
   "cell_type": "code",
   "execution_count": 16,
   "metadata": {
    "collapsed": true
   },
   "outputs": [],
   "source": [
    "# take input image\n",
    "x = preprocess_image(base_image_path)"
   ]
  },
  {
   "cell_type": "code",
   "execution_count": 17,
   "metadata": {
    "collapsed": false
   },
   "outputs": [
    {
     "name": "stdout",
     "output_type": "stream",
     "text": [
      "('Start of iteration', 0)\n",
      "('Current loss value:', array(1424080512.0, dtype=float32))\n",
      "('Start of iteration', 1)\n",
      "('Current loss value:', array(286484064.0, dtype=float32))\n"
     ]
    }
   ],
   "source": [
    "# iterate and optimize\n",
    "for i in range(2):\n",
    "    print('Start of iteration', i)\n",
    "    \n",
    "    x, min_val, info = fmin_l_bfgs_b(evaluator.loss, x.flatten(),\n",
    "                                     fprime=evaluator.grads, maxfun=20)\n",
    "    every_layer_feature=evaluator.FFF(x)\n",
    "    print('Current loss value:', min_val)\n",
    "    # save current generated image\n",
    "    if i == 4:\n",
    "        img = deprocess_image(x.copy())\n",
    "        fname = '_at_iteration_%d_.png' % i\n",
    "        imsave(fname, img)\n",
    "        end_time = time.time()\n",
    "        print('Image saved as', fname)"
   ]
  }
 ],
 "metadata": {
  "anaconda-cloud": {},
  "kernelspec": {
   "display_name": "Python [default]",
   "language": "python",
   "name": "python2"
  },
  "language_info": {
   "codemirror_mode": {
    "name": "ipython",
    "version": 2
   },
   "file_extension": ".py",
   "mimetype": "text/x-python",
   "name": "python",
   "nbconvert_exporter": "python",
   "pygments_lexer": "ipython2",
   "version": "2.7.12"
  }
 },
 "nbformat": 4,
 "nbformat_minor": 0
}
